{
 "cells": [
  {
   "cell_type": "code",
   "execution_count": 1,
   "metadata": {},
   "outputs": [],
   "source": [
    "import torch\n",
    "import torchvision\n",
    "import torchvision.transforms as transforms\n",
    "import numpy as np\n",
    "from time import time"
   ]
  },
  {
   "cell_type": "code",
   "execution_count": 2,
   "metadata": {},
   "outputs": [],
   "source": [
    "# Model parameters\n",
    "CLASS_NUM = 2\n",
    "\n",
    "IMAGE_HEIGHT = 180\n",
    "IMAGE_WIDTH = 180\n",
    "\n",
    "data_dir = '../dataset'"
   ]
  },
  {
   "cell_type": "code",
   "execution_count": 3,
   "metadata": {},
   "outputs": [],
   "source": [
    "# Load dataset\n",
    "Transforms = transforms.Compose([\n",
    "    transforms.Resize((IMAGE_HEIGHT, IMAGE_WIDTH)),\n",
    "    transforms.ToTensor(),\n",
    "    transforms.Normalize((0.5, 0.5, 0.5), (0.5, 0.5, 0.5)),\n",
    "    transforms.Grayscale(num_output_channels=1)\n",
    "])\n",
    "\n",
    "dataset = torchvision.datasets.ImageFolder(\n",
    "    root=data_dir,\n",
    "    transform=Transforms\n",
    ")"
   ]
  },
  {
   "cell_type": "code",
   "execution_count": 4,
   "metadata": {},
   "outputs": [
    {
     "name": "stderr",
     "output_type": "stream",
     "text": [
      "C:\\ProgramData\\Anaconda3\\envs\\Pytorch\\lib\\site-packages\\PIL\\Image.py:951: UserWarning: Palette images with Transparency expressed in bytes should be converted to RGBA images\n",
      "  warnings.warn(\n"
     ]
    },
    {
     "name": "stdout",
     "output_type": "stream",
     "text": [
      "[INFO] LOADED 3400 IMAGES in 6.361s\n"
     ]
    }
   ],
   "source": [
    "t0 = time()\n",
    "data = []\n",
    "for (image, label) in dataset:\n",
    "    x = torch.flatten(image, 1)\n",
    "    x = x[0].detach().numpy()\n",
    "    data.append(x)\n",
    "labels = dataset.targets\n",
    "print(\"[INFO] LOADED\", len(labels), \"IMAGES in %0.3fs\" % (time() - t0))"
   ]
  },
  {
   "cell_type": "code",
   "execution_count": 10,
   "metadata": {},
   "outputs": [],
   "source": [
    "# SPLIT DATA INTO TRAINING AND TESTING SET\n",
    "from sklearn.model_selection import train_test_split\n",
    "X_train, X_test, y_train, y_test = train_test_split(\n",
    "    data, labels,\n",
    "    test_size=0.20,\n",
    "    stratify=labels\n",
    ")"
   ]
  },
  {
   "cell_type": "code",
   "execution_count": 6,
   "metadata": {},
   "outputs": [],
   "source": [
    "from sklearn.metrics import classification_report\n",
    "def EVALUATE(clf, clf_name):\n",
    "    print(\"[\",clf_name,\"]\")\n",
    "    print(\"classification report on the test set\")\n",
    "    t0 = time()\n",
    "    y_pred = clf.predict(X_test)\n",
    "    print(\"done in %0.3fs\" % (time() - t0))\n",
    "    print(classification_report(y_test, y_pred))"
   ]
  },
  {
   "cell_type": "code",
   "execution_count": 13,
   "metadata": {},
   "outputs": [
    {
     "name": "stdout",
     "output_type": "stream",
     "text": [
      "[ Nearest Neighbors ]\n",
      "classification report on the test set\n",
      "done in 22.212s\n",
      "              precision    recall  f1-score   support\n",
      "\n",
      "           0       0.92      0.73      0.81       294\n",
      "           1       0.82      0.95      0.88       386\n",
      "\n",
      "    accuracy                           0.86       680\n",
      "   macro avg       0.87      0.84      0.85       680\n",
      "weighted avg       0.87      0.86      0.85       680\n",
      "\n"
     ]
    }
   ],
   "source": [
    "from sklearn import neighbors\n",
    "N_NEIGHBORS = 15\n",
    "WEIGHTS = 'distance'\n",
    "nbrs = neighbors.KNeighborsClassifier(N_NEIGHBORS, weights=WEIGHTS, algorithm='kd_tree', metric='euclidean', n_jobs=-1)\n",
    "nbrs.fit(X_train, y_train)\n",
    "EVALUATE(nbrs, \"Nearest Neighbors\")"
   ]
  }
 ],
 "metadata": {
  "kernelspec": {
   "display_name": "Python 3",
   "language": "python",
   "name": "python3"
  },
  "language_info": {
   "codemirror_mode": {
    "name": "ipython",
    "version": 3
   },
   "file_extension": ".py",
   "mimetype": "text/x-python",
   "name": "python",
   "nbconvert_exporter": "python",
   "pygments_lexer": "ipython3",
   "version": "3.8.5"
  }
 },
 "nbformat": 4,
 "nbformat_minor": 4
}
